{
  "nbformat": 4,
  "nbformat_minor": 0,
  "metadata": {
    "hide_input": false,
    "kernelspec": {
      "display_name": "Python 3",
      "language": "python",
      "name": "python3"
    },
    "language_info": {
      "codemirror_mode": {
        "name": "ipython",
        "version": 3
      },
      "file_extension": ".py",
      "mimetype": "text/x-python",
      "name": "python",
      "nbconvert_exporter": "python",
      "pygments_lexer": "ipython3",
      "version": "3.6.3"
    },
    "colab": {
      "name": "dlnd_face_generation.ipynb",
      "provenance": [],
      "collapsed_sections": []
    }
  },
  "cells": [
    {
      "cell_type": "markdown",
      "metadata": {
        "id": "ULz1Yr5O1DR3",
        "colab_type": "text"
      },
      "source": [
        "# Face Generation\n",
        "\n",
        "In this project, you'll define and train a DCGAN on a dataset of faces. Your goal is to get a generator network to generate *new* images of faces that look as realistic as possible!\n",
        "\n",
        "The project will be broken down into a series of tasks from **loading in data to defining and training adversarial networks**. At the end of the notebook, you'll be able to visualize the results of your trained Generator to see how it performs; your generated samples should look like fairly realistic faces with small amounts of noise.\n",
        "\n",
        "### Get the Data\n",
        "\n",
        "You'll be using the [CelebFaces Attributes Dataset (CelebA)](http://mmlab.ie.cuhk.edu.hk/projects/CelebA.html) to train your adversarial networks.\n",
        "\n",
        "This dataset is more complex than the number datasets (like MNIST or SVHN) you've been working with, and so, you should prepare to define deeper networks and train them for a longer time to get good results. It is suggested that you utilize a GPU for training.\n",
        "\n",
        "### Pre-processed Data\n",
        "\n",
        "Since the project's main focus is on building the GANs, we've done *some* of the pre-processing for you. Each of the CelebA images has been cropped to remove parts of the image that don't include a face, then resized down to 64x64x3 NumPy images. Some sample data is show below.\n",
        "\n",
        "<img src='assets/processed_face_data.png' width=60% />\n",
        "\n",
        "> If you are working locally, you can download this data [by clicking here](https://s3.amazonaws.com/video.udacity-data.com/topher/2018/November/5be7eb6f_processed-celeba-small/processed-celeba-small.zip)\n",
        "\n",
        "This is a zip file that you'll need to extract in the home directory of this notebook for further loading and processing. After extracting the data, you should be left with a directory of data `processed_celeba_small/`"
      ]
    },
    {
      "cell_type": "code",
      "metadata": {
        "id": "OO_XV8va1DSE",
        "colab_type": "code",
        "colab": {}
      },
      "source": [
        "# can comment out after executing\n",
        "#!unzip processed_celeba_small.zip"
      ],
      "execution_count": 0,
      "outputs": []
    },
    {
      "cell_type": "code",
      "metadata": {
        "id": "lQu_SzlS1DSV",
        "colab_type": "code",
        "colab": {}
      },
      "source": [
        "data_dir = 'processed_celeba_small/'\n",
        "\n",
        "\"\"\"\n",
        "DON'T MODIFY ANYTHING IN THIS CELL\n",
        "\"\"\"\n",
        "import pickle as pkl\n",
        "import matplotlib.pyplot as plt\n",
        "import numpy as np\n",
        "import problem_unittests as tests\n",
        "#import helper\n",
        "\n",
        "%matplotlib inline"
      ],
      "execution_count": 0,
      "outputs": []
    },
    {
      "cell_type": "markdown",
      "metadata": {
        "id": "kkFlW2PZ1DSh",
        "colab_type": "text"
      },
      "source": [
        "## Visualize the CelebA Data\n",
        "\n",
        "The [CelebA](http://mmlab.ie.cuhk.edu.hk/projects/CelebA.html) dataset contains over 200,000 celebrity images with annotations. Since you're going to be generating faces, you won't need the annotations, you'll only need the images. Note that these are color images with [3 color channels (RGB)](https://en.wikipedia.org/wiki/Channel_(digital_image)#RGB_Images) each.\n",
        "\n",
        "### Pre-process and Load the Data\n",
        "\n",
        "Since the project's main focus is on building the GANs, we've done *some* of the pre-processing for you. Each of the CelebA images has been cropped to remove parts of the image that don't include a face, then resized down to 64x64x3 NumPy images. This *pre-processed* dataset is a smaller subset of the very large CelebA data.\n",
        "\n",
        "> There are a few other steps that you'll need to **transform** this data and create a **DataLoader**.\n",
        "\n",
        "#### Exercise: Complete the following `get_dataloader` function, such that it satisfies these requirements:\n",
        "\n",
        "* Your images should be square, Tensor images of size `image_size x image_size` in the x and y dimension.\n",
        "* Your function should return a DataLoader that shuffles and batches these Tensor images.\n",
        "\n",
        "#### ImageFolder\n",
        "\n",
        "To create a dataset given a directory of images, it's recommended that you use PyTorch's [ImageFolder](https://pytorch.org/docs/stable/torchvision/datasets.html#imagefolder) wrapper, with a root directory `processed_celeba_small/` and data transformation passed in."
      ]
    },
    {
      "cell_type": "code",
      "metadata": {
        "id": "xnym3Mrr1DSm",
        "colab_type": "code",
        "colab": {}
      },
      "source": [
        "# necessary imports\n",
        "import torch\n",
        "from torchvision import datasets\n",
        "from torchvision import transforms"
      ],
      "execution_count": 0,
      "outputs": []
    },
    {
      "cell_type": "code",
      "metadata": {
        "id": "gAn171fI1DSy",
        "colab_type": "code",
        "colab": {}
      },
      "source": [
        "def get_dataloader(batch_size, image_size, data_dir='processed_celeba_small/'):\n",
        "    \"\"\"\n",
        "    Batch the neural network data using DataLoader\n",
        "    :param batch_size: The size of each batch; the number of images in a batch\n",
        "    :param img_size: The square size of the image data (x, y)\n",
        "    :param data_dir: Directory where image data is located\n",
        "    :return: DataLoader with batched data\n",
        "    \"\"\"\n",
        "    transform = transforms.Compose([\n",
        "                    transforms.Resize(image_size),\n",
        "                    transforms.ToTensor()\n",
        "                ])\n",
        "    my_data = datasets.ImageFolder(data_dir, \n",
        "                                      transform = transform)\n",
        "    \n",
        "    # TODO: Implement function and return a dataloader\n",
        "    data_loader = torch.utils.data.DataLoader(dataset = my_data,\n",
        "                                               batch_size = batch_size,\n",
        "                                               shuffle = True)\n",
        "    \n",
        "    return data_loader\n"
      ],
      "execution_count": 0,
      "outputs": []
    },
    {
      "cell_type": "markdown",
      "metadata": {
        "id": "MhFoUS_B1DS-",
        "colab_type": "text"
      },
      "source": [
        "## Create a DataLoader\n",
        "\n",
        "#### Exercise: Create a DataLoader `celeba_train_loader` with appropriate hyperparameters.\n",
        "\n",
        "Call the above function and create a dataloader to view images. \n",
        "* You can decide on any reasonable `batch_size` parameter\n",
        "* Your `image_size` **must be** `32`. Resizing the data to a smaller size will make for faster training, while still creating convincing images of faces!"
      ]
    },
    {
      "cell_type": "code",
      "metadata": {
        "id": "oHS9jG_X1DTC",
        "colab_type": "code",
        "colab": {}
      },
      "source": [
        "# Define function hyperparameters\n",
        "batch_size = 128\n",
        "img_size = 32\n",
        "\n",
        "\"\"\"\n",
        "DON'T MODIFY ANYTHING IN THIS CELL THAT IS BELOW THIS LINE\n",
        "\"\"\"\n",
        "# Call your function and get a dataloader\n",
        "celeba_train_loader = get_dataloader(batch_size, img_size)\n"
      ],
      "execution_count": 0,
      "outputs": []
    },
    {
      "cell_type": "markdown",
      "metadata": {
        "id": "ctJZKq_Y1DTP",
        "colab_type": "text"
      },
      "source": [
        "Next, you can view some images! You should seen square images of somewhat-centered faces.\n",
        "\n",
        "Note: You'll need to convert the Tensor images into a NumPy type and transpose the dimensions to correctly display an image, suggested `imshow` code is below, but it may not be perfect."
      ]
    },
    {
      "cell_type": "code",
      "metadata": {
        "id": "M6IE0HuR1DTS",
        "colab_type": "code",
        "outputId": "ca44de53-220d-4a92-d23e-e2ef617c6bee",
        "colab": {}
      },
      "source": [
        "# helper display function\n",
        "def imshow(img):\n",
        "    npimg = img.numpy()\n",
        "    plt.imshow(np.transpose(npimg, (1, 2, 0)))\n",
        "\n",
        "\"\"\"\n",
        "DON'T MODIFY ANYTHING IN THIS CELL THAT IS BELOW THIS LINE\n",
        "\"\"\"\n",
        "# obtain one batch of training images\n",
        "dataiter = iter(celeba_train_loader)\n",
        "images, _ = dataiter.next() # _ for no labels\n",
        "\n",
        "# plot the images in the batch, along with the corresponding labels\n",
        "fig = plt.figure(figsize=(20, 4))\n",
        "plot_size=20\n",
        "for idx in np.arange(plot_size):\n",
        "    ax = fig.add_subplot(2, plot_size/2, idx+1, xticks=[], yticks=[])\n",
        "    imshow(images[idx])"
      ],
      "execution_count": 0,
      "outputs": [
        {
          "output_type": "display_data",
          "data": {
            "image/png": "[encoded data removed]",
            "text/plain": [
              "<matplotlib.figure.Figure at 0x7fb7fd7afd68>"
            ]
          },
          "metadata": {
            "tags": []
          }
        }
      ]
    },
    {
      "cell_type": "markdown",
      "metadata": {
        "id": "lA6ZKAgr1DTk",
        "colab_type": "text"
      },
      "source": [
        "#### Exercise: Pre-process your image data and scale it to a pixel range of -1 to 1\n",
        "\n",
        "You need to do a bit of pre-processing; you know that the output of a `tanh` activated generator will contain pixel values in a range from -1 to 1, and so, we need to rescale our training images to a range of -1 to 1. (Right now, they are in a range from 0-1.)"
      ]
    },
    {
      "cell_type": "code",
      "metadata": {
        "id": "rs8eD8Eg1DTo",
        "colab_type": "code",
        "colab": {}
      },
      "source": [
        "# TODO: Complete the scale function\n",
        "def scale(x, feature_range=(-1, 1)):\n",
        "    ''' Scale takes in an image x and returns that image, scaled\n",
        "       with a feature_range of pixel values from -1 to 1. \n",
        "       This function assumes that the input x is already scaled from 0-1.'''\n",
        "    # assume x is scaled to (0, 1)\n",
        "    # scale to feature_range and return scaled x\n",
        "    min, max = feature_range\n",
        "    x = x * (max - min) + min\n",
        "    \n",
        "    return x\n"
      ],
      "execution_count": 0,
      "outputs": []
    },
    {
      "cell_type": "code",
      "metadata": {
        "id": "n2ZJJ-Ch1DT5",
        "colab_type": "code",
        "outputId": "11dacd38-6b10-4bfe-cc8d-5666a97637b4",
        "colab": {}
      },
      "source": [
        "\"\"\"\n",
        "DON'T MODIFY ANYTHING IN THIS CELL THAT IS BELOW THIS LINE\n",
        "\"\"\"\n",
        "# check scaled range\n",
        "# should be close to -1 to 1\n",
        "img = images[0]\n",
        "scaled_img = scale(img)\n",
        "\n",
        "print('Min: ', scaled_img.min())\n",
        "print('Max: ', scaled_img.max())"
      ],
      "execution_count": 0,
      "outputs": [
        {
          "output_type": "stream",
          "text": [
            "Min:  tensor(-0.9922)\n",
            "Max:  tensor(0.8510)\n"
          ],
          "name": "stdout"
        }
      ]
    },
    {
      "cell_type": "markdown",
      "metadata": {
        "id": "IKgg7pZr1DUG",
        "colab_type": "text"
      },
      "source": [
        "---\n",
        "# Define the Model\n",
        "\n",
        "A GAN is comprised of two adversarial networks, a discriminator and a generator.\n",
        "\n",
        "## Discriminator\n",
        "\n",
        "Your first task will be to define the discriminator. This is a convolutional classifier like you've built before, only without any maxpooling layers. To deal with this complex data, it's suggested you use a deep network with **normalization**. You are also allowed to create any helper functions that may be useful.\n",
        "\n",
        "#### Exercise: Complete the Discriminator class\n",
        "* The inputs to the discriminator are 32x32x3 tensor images\n",
        "* The output should be a single value that will indicate whether a given image is real or fake\n"
      ]
    },
    {
      "cell_type": "code",
      "metadata": {
        "id": "FGtLMlih1DUJ",
        "colab_type": "code",
        "colab": {}
      },
      "source": [
        "import torch.nn as nn\n",
        "import torch.nn.functional as F"
      ],
      "execution_count": 0,
      "outputs": []
    },
    {
      "cell_type": "code",
      "metadata": {
        "id": "OO_ySUpG1DUV",
        "colab_type": "code",
        "outputId": "65647e4c-29ed-4a59-deb3-9c7d957b1a8f",
        "colab": {}
      },
      "source": [
        "# helper conv function\n",
        "def conv(in_channels, out_channels, kernel_size, stride=2, padding=1, batch_norm=True):\n",
        "    \"\"\"Creates a convolutional layer, with optional batch normalization.\n",
        "    \"\"\"\n",
        "    layers = []\n",
        "    conv_layer = nn.Conv2d(in_channels, out_channels, \n",
        "                           kernel_size, stride, padding, bias=False)\n",
        "    \n",
        "    # append conv layer\n",
        "    layers.append(conv_layer)\n",
        "\n",
        "    if batch_norm:\n",
        "        # append batchnorm layer\n",
        "        layers.append(nn.BatchNorm2d(out_channels))\n",
        "     \n",
        "    # using Sequential container\n",
        "    return nn.Sequential(*layers)\n",
        "\n",
        "\n",
        "class Discriminator(nn.Module):\n",
        "\n",
        "    def __init__(self, conv_dim):\n",
        "        \"\"\"\n",
        "        Initialize the Discriminator Module\n",
        "        :param conv_dim: The depth of the first convolutional layer\n",
        "        \"\"\"\n",
        "        super(Discriminator, self).__init__()\n",
        "\n",
        "        # complete init function\n",
        "        self.conv_dim = conv_dim\n",
        "        # 32x32 input\n",
        "        self.conv1 = conv(3, conv_dim, 4, batch_norm=False) # first layer, no batch_norm\n",
        "        # 16x16 out\n",
        "        self.conv2 = conv(conv_dim, conv_dim*2, 4)\n",
        "        # 8x8 out\n",
        "        self.conv3 = conv(conv_dim*2, conv_dim*4, 4)\n",
        "        # 4x4 out\n",
        "        # final, fully-connected layer\n",
        "        self.fc = nn.Linear(conv_dim*4*4*4, 1)\n",
        "\n",
        "    def forward(self, x):\n",
        "        \"\"\"\n",
        "        Forward propagation of the neural network\n",
        "        :param x: The input to the neural network     \n",
        "        :return: Discriminator logits; the output of the neural network\n",
        "        \"\"\"\n",
        "        # define feedforward behavior\n",
        "        output = F.leaky_relu(self.conv1(x), 0.2)\n",
        "        output = F.leaky_relu(self.conv2(output), 0.2)\n",
        "        output = F.leaky_relu(self.conv3(output), 0.2)\n",
        "        \n",
        "        # flatten\n",
        "        output = output.view(-1, self.conv_dim*4*4*4)\n",
        "        \n",
        "        # final output layer\n",
        "        output = self.fc(output)        \n",
        "        return output\n",
        "\n",
        "\n",
        "\"\"\"\n",
        "DON'T MODIFY ANYTHING IN THIS CELL THAT IS BELOW THIS LINE\n",
        "\"\"\"\n",
        "tests.test_discriminator(Discriminator)"
      ],
      "execution_count": 0,
      "outputs": [
        {
          "output_type": "stream",
          "text": [
            "Tests Passed\n"
          ],
          "name": "stdout"
        }
      ]
    },
    {
      "cell_type": "markdown",
      "metadata": {
        "id": "GZzRxGwm1DUk",
        "colab_type": "text"
      },
      "source": [
        "## Generator\n",
        "\n",
        "The generator should upsample an input and generate a *new* image of the same size as our training data `32x32x3`. This should be mostly transpose convolutional layers with normalization applied to the outputs.\n",
        "\n",
        "#### Exercise: Complete the Generator class\n",
        "* The inputs to the generator are vectors of some length `z_size`\n",
        "* The output should be a image of shape `32x32x3`"
      ]
    },
    {
      "cell_type": "code",
      "metadata": {
        "id": "QVdIbM-l1DUn",
        "colab_type": "code",
        "outputId": "292a2b34-459f-4574-abd9-86ce35f58217",
        "colab": {}
      },
      "source": [
        "# helper deconv function\n",
        "def deconv(in_channels, out_channels, kernel_size, stride=2, padding=1, batch_norm=True):\n",
        "    \"\"\"Creates a transposed-convolutional layer, with optional batch normalization.\n",
        "    \"\"\"\n",
        "    # create a sequence of transpose + optional batch norm layers\n",
        "    layers = []\n",
        "    transpose_conv_layer = nn.ConvTranspose2d(in_channels, out_channels, \n",
        "                                              kernel_size, stride, padding, bias=False)\n",
        "    # append transpose convolutional layer\n",
        "    layers.append(transpose_conv_layer)\n",
        "    \n",
        "    if batch_norm:\n",
        "        # append batchnorm layer\n",
        "        layers.append(nn.BatchNorm2d(out_channels))\n",
        "        \n",
        "    return nn.Sequential(*layers)\n",
        "\n",
        "\n",
        "class Generator(nn.Module):\n",
        "    \n",
        "    def __init__(self, z_size, conv_dim):\n",
        "        \"\"\"\n",
        "        Initialize the Generator Module\n",
        "        :param z_size: The length of the input latent vector, z\n",
        "        :param conv_dim: The depth of the inputs to the *last* transpose convolutional layer\n",
        "        \"\"\"\n",
        "        super(Generator, self).__init__()\n",
        "\n",
        "        # complete init function\n",
        "        self.conv_dim = conv_dim\n",
        "        \n",
        "        # first, fully-connected layer\n",
        "        self.fc = nn.Linear(z_size, conv_dim*4*4*4)\n",
        "\n",
        "        # transpose conv layers\n",
        "        self.t_conv1 = deconv(conv_dim*4, conv_dim*2, 4)\n",
        "        self.t_conv2 = deconv(conv_dim*2, conv_dim, 4)\n",
        "        self.t_conv3 = deconv(conv_dim, 3, 4, batch_norm=False)\n",
        "\n",
        "\n",
        "    def forward(self, x):\n",
        "        \"\"\"\n",
        "        Forward propagation of the neural network\n",
        "        :param x: The input to the neural network     \n",
        "        :return: A 32x32x3 Tensor image as output\n",
        "        \"\"\"\n",
        "        # define feedforward behavior\n",
        "        # fully-connected + reshape \n",
        "        output = self.fc(x)\n",
        "        output = output.view(-1, self.conv_dim*4, 4, 4) # (batch_size, depth, 4, 4)\n",
        "        \n",
        "        # hidden transpose conv layers + relu\n",
        "        output = F.relu(self.t_conv1(output))\n",
        "        output = F.relu(self.t_conv2(output))\n",
        "        \n",
        "        # last layer + tanh activation\n",
        "        output = self.t_conv3(output)\n",
        "        output = F.tanh(output)\n",
        "        \n",
        "        return output\n",
        "\n",
        "\"\"\"\n",
        "DON'T MODIFY ANYTHING IN THIS CELL THAT IS BELOW THIS LINE\n",
        "\"\"\"\n",
        "tests.test_generator(Generator)"
      ],
      "execution_count": 0,
      "outputs": [
        {
          "output_type": "stream",
          "text": [
            "Tests Passed\n"
          ],
          "name": "stdout"
        }
      ]
    },
    {
      "cell_type": "markdown",
      "metadata": {
        "id": "xD7xEGLh1DUz",
        "colab_type": "text"
      },
      "source": [
        "## Initialize the weights of your networks\n",
        "\n",
        "To help your models converge, you should initialize the weights of the convolutional and linear layers in your model. From reading the [original DCGAN paper](https://arxiv.org/pdf/1511.06434.pdf), they say:\n",
        "> All weights were initialized from a zero-centered Normal distribution with standard deviation 0.02.\n",
        "\n",
        "So, your next task will be to define a weight initialization function that does just this!\n",
        "\n",
        "You can refer back to the lesson on weight initialization or even consult existing model code, such as that from [the `networks.py` file in CycleGAN Github repository](https://github.com/junyanz/pytorch-CycleGAN-and-pix2pix/blob/master/models/networks.py) to help you complete this function.\n",
        "\n",
        "#### Exercise: Complete the weight initialization function\n",
        "\n",
        "* This should initialize only **convolutional** and **linear** layers\n",
        "* Initialize the weights to a normal distribution, centered around 0, with a standard deviation of 0.02.\n",
        "* The bias terms, if they exist, may be left alone or set to 0."
      ]
    },
    {
      "cell_type": "code",
      "metadata": {
        "id": "MCdg9kdq1DU3",
        "colab_type": "code",
        "colab": {}
      },
      "source": [
        "import torch.nn as nn\n",
        "\n",
        "def weights_init_normal(m):\n",
        "    \"\"\"\n",
        "    Applies initial weights to certain layers in a model .\n",
        "    The weights are taken from a normal distribution \n",
        "    with mean = 0, std dev = 0.02.\n",
        "    :param m: A module or layer in a network    \n",
        "    \"\"\"\n",
        "    # classname will be something like:\n",
        "    # `Conv`, `BatchNorm2d`, `Linear`, etc.\n",
        "    classname = m.__class__.__name__\n",
        "    \n",
        "    # TODO: Apply initial weights to convolutional and linear layers\n",
        "    if hasattr(m, 'weight') and (classname.find('Conv') != -1 or classname.find('Linear') != -1):\n",
        "        nn.init.normal(m.weight.data, 0.0, 0.2)\n",
        "        \n",
        "    if hasattr(m, 'bias') and m.bias is not None:\n",
        "        nn.init.constant(m.bias.data, 0.0)\n",
        "    "
      ],
      "execution_count": 0,
      "outputs": []
    },
    {
      "cell_type": "markdown",
      "metadata": {
        "collapsed": true,
        "id": "6M9dSXsS1DVG",
        "colab_type": "text"
      },
      "source": [
        "## Build complete network\n",
        "\n",
        "Define your models' hyperparameters and instantiate the discriminator and generator from the classes defined above. Make sure you've passed in the correct input arguments."
      ]
    },
    {
      "cell_type": "code",
      "metadata": {
        "id": "4SyqDory1DVJ",
        "colab_type": "code",
        "colab": {}
      },
      "source": [
        "\"\"\"\n",
        "DON'T MODIFY ANYTHING IN THIS CELL THAT IS BELOW THIS LINE\n",
        "\"\"\"\n",
        "def build_network(d_conv_dim, g_conv_dim, z_size):\n",
        "    # define discriminator and generator\n",
        "    D = Discriminator(d_conv_dim)\n",
        "    G = Generator(z_size=z_size, conv_dim=g_conv_dim)\n",
        "\n",
        "    # initialize model weights\n",
        "    D.apply(weights_init_normal)\n",
        "    G.apply(weights_init_normal)\n",
        "\n",
        "    print(D)\n",
        "    print()\n",
        "    print(G)\n",
        "    \n",
        "    return D, G\n"
      ],
      "execution_count": 0,
      "outputs": []
    },
    {
      "cell_type": "markdown",
      "metadata": {
        "id": "2UaeTvq01DVb",
        "colab_type": "text"
      },
      "source": [
        "#### Exercise: Define model hyperparameters"
      ]
    },
    {
      "cell_type": "code",
      "metadata": {
        "id": "jVi15oNO1DVe",
        "colab_type": "code",
        "outputId": "e7474cd6-d69a-4cbf-ec40-d8202c3451c5",
        "colab": {}
      },
      "source": [
        "#model hyperparameters\n",
        "d_conv_dim = 32\n",
        "g_conv_dim = 32\n",
        "z_size = 100\n",
        "\n",
        "\"\"\"\n",
        "DON'T MODIFY ANYTHING IN THIS CELL THAT IS BELOW THIS LINE\n",
        "\"\"\"\n",
        "D, G = build_network(d_conv_dim, g_conv_dim, z_size)"
      ],
      "execution_count": 0,
      "outputs": [
        {
          "output_type": "stream",
          "text": [
            "Discriminator(\n",
            "  (conv1): Sequential(\n",
            "    (0): Conv2d(3, 32, kernel_size=(4, 4), stride=(2, 2), padding=(1, 1), bias=False)\n",
            "  )\n",
            "  (conv2): Sequential(\n",
            "    (0): Conv2d(32, 64, kernel_size=(4, 4), stride=(2, 2), padding=(1, 1), bias=False)\n",
            "    (1): BatchNorm2d(64, eps=1e-05, momentum=0.1, affine=True, track_running_stats=True)\n",
            "  )\n",
            "  (conv3): Sequential(\n",
            "    (0): Conv2d(64, 128, kernel_size=(4, 4), stride=(2, 2), padding=(1, 1), bias=False)\n",
            "    (1): BatchNorm2d(128, eps=1e-05, momentum=0.1, affine=True, track_running_stats=True)\n",
            "  )\n",
            "  (fc): Linear(in_features=2048, out_features=1, bias=True)\n",
            ")\n",
            "\n",
            "Generator(\n",
            "  (fc): Linear(in_features=100, out_features=2048, bias=True)\n",
            "  (t_conv1): Sequential(\n",
            "    (0): ConvTranspose2d(128, 64, kernel_size=(4, 4), stride=(2, 2), padding=(1, 1), bias=False)\n",
            "    (1): BatchNorm2d(64, eps=1e-05, momentum=0.1, affine=True, track_running_stats=True)\n",
            "  )\n",
            "  (t_conv2): Sequential(\n",
            "    (0): ConvTranspose2d(64, 32, kernel_size=(4, 4), stride=(2, 2), padding=(1, 1), bias=False)\n",
            "    (1): BatchNorm2d(32, eps=1e-05, momentum=0.1, affine=True, track_running_stats=True)\n",
            "  )\n",
            "  (t_conv3): Sequential(\n",
            "    (0): ConvTranspose2d(32, 3, kernel_size=(4, 4), stride=(2, 2), padding=(1, 1), bias=False)\n",
            "  )\n",
            ")\n"
          ],
          "name": "stdout"
        },
        {
          "output_type": "stream",
          "text": [
            "/opt/conda/lib/python3.6/site-packages/ipykernel_launcher.py:16: UserWarning: nn.init.normal is now deprecated in favor of nn.init.normal_.\n",
            "  app.launch_new_instance()\n",
            "/opt/conda/lib/python3.6/site-packages/ipykernel_launcher.py:19: UserWarning: nn.init.constant is now deprecated in favor of nn.init.constant_.\n"
          ],
          "name": "stderr"
        }
      ]
    },
    {
      "cell_type": "markdown",
      "metadata": {
        "id": "3-UykfMB1DVr",
        "colab_type": "text"
      },
      "source": [
        "### Training on GPU\n",
        "\n",
        "Check if you can train on GPU. Here, we'll set this as a boolean variable `train_on_gpu`. Later, you'll be responsible for making sure that \n",
        ">* Models,\n",
        "* Model inputs, and\n",
        "* Loss function arguments\n",
        "\n",
        "Are moved to GPU, where appropriate."
      ]
    },
    {
      "cell_type": "code",
      "metadata": {
        "id": "N1r8T97k1DVv",
        "colab_type": "code",
        "outputId": "837ca8ba-03aa-43a2-807f-6484867e2a7d",
        "colab": {}
      },
      "source": [
        "\"\"\"\n",
        "DON'T MODIFY ANYTHING IN THIS CELL\n",
        "\"\"\"\n",
        "import torch\n",
        "\n",
        "# Check for a GPU\n",
        "train_on_gpu = torch.cuda.is_available()\n",
        "if not train_on_gpu:\n",
        "    print('No GPU found. Please use a GPU to train your neural network.')\n",
        "else:\n",
        "    print('Training on GPU!')"
      ],
      "execution_count": 0,
      "outputs": [
        {
          "output_type": "stream",
          "text": [
            "Training on GPU!\n"
          ],
          "name": "stdout"
        }
      ]
    },
    {
      "cell_type": "markdown",
      "metadata": {
        "id": "DGdvobtZ1DV7",
        "colab_type": "text"
      },
      "source": [
        "---\n",
        "## Discriminator and Generator Losses\n",
        "\n",
        "Now we need to calculate the losses for both types of adversarial networks.\n",
        "\n",
        "### Discriminator Losses\n",
        "\n",
        "> * For the discriminator, the total loss is the sum of the losses for real and fake images, `d_loss = d_real_loss + d_fake_loss`. \n",
        "* Remember that we want the discriminator to output 1 for real images and 0 for fake images, so we need to set up the losses to reflect that.\n",
        "\n",
        "\n",
        "### Generator Loss\n",
        "\n",
        "The generator loss will look similar only with flipped labels. The generator's goal is to get the discriminator to *think* its generated images are *real*.\n",
        "\n",
        "#### Exercise: Complete real and fake loss functions\n",
        "\n",
        "**You may choose to use either cross entropy or a least squares error loss to complete the following `real_loss` and `fake_loss` functions.**"
      ]
    },
    {
      "cell_type": "code",
      "metadata": {
        "id": "Siz4W5HA1DV_",
        "colab_type": "code",
        "colab": {}
      },
      "source": [
        "def real_loss(D_out):\n",
        "    '''Calculates how close discriminator outputs are to being real.\n",
        "       param, D_out: discriminator logits\n",
        "       return: real loss'''\n",
        "    batch_size = D_out.size(0)\n",
        "    labels = torch.ones(batch_size)\n",
        "    \n",
        "    if train_on_gpu:\n",
        "        labels = labels.cuda()\n",
        "\n",
        "    criterion = nn.BCEWithLogitsLoss()\n",
        "    loss = criterion(D_out.squeeze(), labels)\n",
        "\n",
        "    return loss\n",
        "\n",
        "def fake_loss(D_out):\n",
        "    '''Calculates how close discriminator outputs are to being fake.\n",
        "       param, D_out: discriminator logits\n",
        "       return: fake loss'''\n",
        "    batch_size = D_out.size(0)\n",
        "    labels = torch.zeros(batch_size)\n",
        "    \n",
        "    if train_on_gpu:\n",
        "        labels = labels.cuda()\n",
        "        \n",
        "    criterion = nn.BCEWithLogitsLoss()\n",
        "    loss = criterion(D_out.squeeze(), labels)\n",
        "    \n",
        "    return loss"
      ],
      "execution_count": 0,
      "outputs": []
    },
    {
      "cell_type": "markdown",
      "metadata": {
        "id": "2vATzmtp1DWL",
        "colab_type": "text"
      },
      "source": [
        "## Optimizers\n",
        "\n",
        "#### Exercise: Define optimizers for your Discriminator (D) and Generator (G)\n",
        "\n",
        "Define optimizers for your models with appropriate hyperparameters."
      ]
    },
    {
      "cell_type": "code",
      "metadata": {
        "id": "i2muoa1I1DWP",
        "colab_type": "code",
        "colab": {}
      },
      "source": [
        "import torch.optim as optim\n",
        "\n",
        "#define parameters\n",
        "lr = 0.0002\n",
        "beta1=0.5\n",
        "beta2=0.999\n",
        "\n",
        "# Create optimizers for the discriminator D and generator G\n",
        "d_optimizer = optim.Adam(D.parameters(), lr, [beta1, beta2])\n",
        "g_optimizer = optim.Adam(G.parameters(), lr, [beta1, beta2])"
      ],
      "execution_count": 0,
      "outputs": []
    },
    {
      "cell_type": "markdown",
      "metadata": {
        "id": "fLWvZlA_1DWp",
        "colab_type": "text"
      },
      "source": [
        "---\n",
        "## Training\n",
        "\n",
        "Training will involve alternating between training the discriminator and the generator. You'll use your functions `real_loss` and `fake_loss` to help you calculate the discriminator losses.\n",
        "\n",
        "* You should train the discriminator by alternating on real and fake images\n",
        "* Then the generator, which tries to trick the discriminator and should have an opposing loss function\n",
        "\n",
        "\n",
        "#### Saving Samples\n",
        "\n",
        "You've been given some code to print out some loss statistics and save some generated \"fake\" samples."
      ]
    },
    {
      "cell_type": "markdown",
      "metadata": {
        "id": "Qs5Pew8F1DWu",
        "colab_type": "text"
      },
      "source": [
        "#### Exercise: Complete the training function\n",
        "\n",
        "Keep in mind that, if you've moved your models to GPU, you'll also have to move any model inputs to GPU."
      ]
    },
    {
      "cell_type": "code",
      "metadata": {
        "id": "5l5jmZkD1DW0",
        "colab_type": "code",
        "colab": {}
      },
      "source": [
        "def train(D, G, n_epochs, print_every=50):\n",
        "    '''Trains adversarial networks for some number of epochs\n",
        "       param, D: the discriminator network\n",
        "       param, G: the generator network\n",
        "       param, n_epochs: number of epochs to train for\n",
        "       param, print_every: when to print and record the models' losses\n",
        "       return: D and G losses'''\n",
        "    \n",
        "    # move models to GPU\n",
        "    if train_on_gpu:\n",
        "        D.cuda()\n",
        "        G.cuda()\n",
        "\n",
        "    # keep track of loss and generated, \"fake\" samples\n",
        "    samples = []\n",
        "    losses = []\n",
        "\n",
        "    # Get some fixed data for sampling. These are images that are held\n",
        "    # constant throughout training, and allow us to inspect the model's performance\n",
        "    sample_size=16\n",
        "    fixed_z = np.random.uniform(-1, 1, size=(sample_size, z_size))\n",
        "    fixed_z = torch.from_numpy(fixed_z).float()\n",
        "    # move z to GPU if available\n",
        "    if train_on_gpu:\n",
        "        fixed_z = fixed_z.cuda()\n",
        "\n",
        "    # epoch training loop\n",
        "    for epoch in range(n_epochs):\n",
        "\n",
        "        # batch training loop\n",
        "        for batch_i, (real_images, _) in enumerate(celeba_train_loader):\n",
        "\n",
        "            batch_size = real_images.size(0)\n",
        "            real_images = scale(real_images)\n",
        "\n",
        "            # ===============================================\n",
        "            #         YOUR CODE HERE: TRAIN THE NETWORKS\n",
        "            # ===============================================\n",
        "            \n",
        "            # 1. Train the discriminator on real and fake images\n",
        "            d_optimizer.zero_grad()\n",
        "            \n",
        "            # Compute the discriminator losses on real images \n",
        "            if train_on_gpu:\n",
        "                real_images = real_images.cuda()\n",
        "                \n",
        "            D_real = D(real_images)\n",
        "            d_real_loss = real_loss(D_real)\n",
        "\n",
        "            # Generate fake images\n",
        "            z = np.random.uniform(-1, 1, size=(batch_size, z_size))\n",
        "            z = torch.from_numpy(z).float()\n",
        "\n",
        "            # move x to GPU, if available\n",
        "            if train_on_gpu:\n",
        "                z = z.cuda()\n",
        "                \n",
        "            fake_images = G(z)\n",
        "            \n",
        "            D_fake = D(fake_images)\n",
        "            d_fake_loss = fake_loss(D_fake)\n",
        "            # add up loss and perform backprop\n",
        "            d_loss = d_real_loss + d_fake_loss\n",
        "            d_loss.backward(retain_graph = True)\n",
        "            d_optimizer.step()            \n",
        "            \n",
        "            # 2. Train the generator with an adversarial loss\n",
        "            g_optimizer.zero_grad()\n",
        "            \n",
        "            # Compute the discriminator losses on fake images \n",
        "            # using flipped labels!\n",
        "            D_fake = D(fake_images)\n",
        "            g_loss = real_loss(D_fake) # use real loss to flip labels\n",
        "        \n",
        "            # perform backprop\n",
        "            g_loss.backward()\n",
        "            g_optimizer.step()\n",
        "                        \n",
        "            # ===============================================\n",
        "            #              END OF YOUR CODE\n",
        "            # ===============================================\n",
        "\n",
        "            # Print some loss stats\n",
        "            if batch_i % print_every == 0:\n",
        "                # append discriminator loss and generator loss\n",
        "                losses.append((d_loss.item(), g_loss.item()))\n",
        "                # print discriminator and generator loss\n",
        "                print('Epoch [{:5d}/{:5d}] | d_loss: {:6.4f} | g_loss: {:6.4f}'.format(\n",
        "                        epoch+1, n_epochs, d_loss.item(), g_loss.item()))\n",
        "\n",
        "\n",
        "        ## AFTER EACH EPOCH##    \n",
        "        # this code assumes your generator is named G, feel free to change the name\n",
        "        # generate and save sample, fake images\n",
        "        G.eval() # for generating samples\n",
        "        samples_z = G(fixed_z)\n",
        "        samples.append(samples_z)\n",
        "        G.train() # back to training mode\n",
        "\n",
        "    # Save training generator samples\n",
        "    with open('train_samples.pkl', 'wb') as f:\n",
        "        pkl.dump(samples, f)\n",
        "    \n",
        "    # finally return losses\n",
        "    return losses"
      ],
      "execution_count": 0,
      "outputs": []
    },
    {
      "cell_type": "markdown",
      "metadata": {
        "id": "tixDm_F11DW-",
        "colab_type": "text"
      },
      "source": [
        "Set your number of training epochs and train your GAN!"
      ]
    },
    {
      "cell_type": "code",
      "metadata": {
        "id": "ziOMJfne1DXC",
        "colab_type": "code",
        "outputId": "c1eafc7d-e0ca-42e4-acda-aab5400f9a3f",
        "colab": {}
      },
      "source": [
        "# set number of epochs \n",
        "n_epochs = 10\n",
        "\n",
        "\n",
        "\"\"\"\n",
        "DON'T MODIFY ANYTHING IN THIS CELL\n",
        "\"\"\"\n",
        "# call training function\n",
        "losses = train(D, G, n_epochs=n_epochs)"
      ],
      "execution_count": 0,
      "outputs": [
        {
          "output_type": "stream",
          "text": [
            "Epoch [    1/   10] | d_loss: 3.5283 | g_loss: 3.2500\n",
            "Epoch [    1/   10] | d_loss: 0.3924 | g_loss: 3.7655\n",
            "Epoch [    1/   10] | d_loss: 0.2522 | g_loss: 3.8796\n",
            "Epoch [    1/   10] | d_loss: 0.2817 | g_loss: 3.9058\n",
            "Epoch [    1/   10] | d_loss: 0.1351 | g_loss: 4.0293\n",
            "Epoch [    1/   10] | d_loss: 0.2250 | g_loss: 4.1212\n",
            "Epoch [    1/   10] | d_loss: 0.1310 | g_loss: 4.7873\n",
            "Epoch [    1/   10] | d_loss: 0.1298 | g_loss: 4.6859\n",
            "Epoch [    1/   10] | d_loss: 0.1162 | g_loss: 5.0072\n",
            "Epoch [    1/   10] | d_loss: 0.0727 | g_loss: 4.8687\n",
            "Epoch [    1/   10] | d_loss: 0.1514 | g_loss: 5.0020\n",
            "Epoch [    1/   10] | d_loss: 0.0537 | g_loss: 4.7040\n",
            "Epoch [    1/   10] | d_loss: 0.0893 | g_loss: 4.8532\n",
            "Epoch [    1/   10] | d_loss: 0.0749 | g_loss: 4.8238\n",
            "Epoch [    1/   10] | d_loss: 0.0565 | g_loss: 4.6220\n",
            "Epoch [    2/   10] | d_loss: 0.0927 | g_loss: 5.1938\n",
            "Epoch [    2/   10] | d_loss: 0.0888 | g_loss: 4.5614\n",
            "Epoch [    2/   10] | d_loss: 0.1203 | g_loss: 4.4583\n",
            "Epoch [    2/   10] | d_loss: 0.0636 | g_loss: 5.3250\n",
            "Epoch [    2/   10] | d_loss: 0.0988 | g_loss: 4.6798\n",
            "Epoch [    2/   10] | d_loss: 0.1520 | g_loss: 4.1440\n",
            "Epoch [    2/   10] | d_loss: 0.1226 | g_loss: 4.2823\n",
            "Epoch [    2/   10] | d_loss: 0.1032 | g_loss: 4.5405\n",
            "Epoch [    2/   10] | d_loss: 0.1581 | g_loss: 4.8926\n",
            "Epoch [    2/   10] | d_loss: 0.1145 | g_loss: 4.2954\n",
            "Epoch [    2/   10] | d_loss: 0.1134 | g_loss: 4.2342\n",
            "Epoch [    2/   10] | d_loss: 0.0999 | g_loss: 4.1953\n",
            "Epoch [    2/   10] | d_loss: 0.1559 | g_loss: 4.5352\n",
            "Epoch [    2/   10] | d_loss: 0.1229 | g_loss: 3.9264\n",
            "Epoch [    2/   10] | d_loss: 0.1555 | g_loss: 3.7438\n",
            "Epoch [    3/   10] | d_loss: 0.1612 | g_loss: 3.5510\n",
            "Epoch [    3/   10] | d_loss: 0.0933 | g_loss: 4.1957\n",
            "Epoch [    3/   10] | d_loss: 0.1981 | g_loss: 4.2393\n",
            "Epoch [    3/   10] | d_loss: 0.1348 | g_loss: 4.4145\n",
            "Epoch [    3/   10] | d_loss: 0.3013 | g_loss: 3.3188\n",
            "Epoch [    3/   10] | d_loss: 0.2918 | g_loss: 2.7505\n",
            "Epoch [    3/   10] | d_loss: 0.1665 | g_loss: 3.4976\n",
            "Epoch [    3/   10] | d_loss: 0.2287 | g_loss: 3.1510\n",
            "Epoch [    3/   10] | d_loss: 0.2390 | g_loss: 3.5404\n",
            "Epoch [    3/   10] | d_loss: 0.2321 | g_loss: 3.6888\n",
            "Epoch [    3/   10] | d_loss: 0.3342 | g_loss: 2.8790\n",
            "Epoch [    3/   10] | d_loss: 0.4487 | g_loss: 2.6563\n",
            "Epoch [    3/   10] | d_loss: 0.3271 | g_loss: 2.9545\n",
            "Epoch [    3/   10] | d_loss: 0.3568 | g_loss: 2.6929\n",
            "Epoch [    3/   10] | d_loss: 0.3895 | g_loss: 3.0082\n",
            "Epoch [    4/   10] | d_loss: 0.4037 | g_loss: 2.9450\n",
            "Epoch [    4/   10] | d_loss: 0.4853 | g_loss: 2.8855\n",
            "Epoch [    4/   10] | d_loss: 0.4265 | g_loss: 2.7684\n",
            "Epoch [    4/   10] | d_loss: 0.4662 | g_loss: 2.9705\n",
            "Epoch [    4/   10] | d_loss: 0.3774 | g_loss: 3.2363\n",
            "Epoch [    4/   10] | d_loss: 0.3938 | g_loss: 3.2045\n",
            "Epoch [    4/   10] | d_loss: 0.7200 | g_loss: 1.8340\n",
            "Epoch [    4/   10] | d_loss: 0.6470 | g_loss: 1.8335\n",
            "Epoch [    4/   10] | d_loss: 0.5667 | g_loss: 2.3132\n",
            "Epoch [    4/   10] | d_loss: 0.5031 | g_loss: 2.0627\n",
            "Epoch [    4/   10] | d_loss: 0.5394 | g_loss: 2.3248\n",
            "Epoch [    4/   10] | d_loss: 0.5213 | g_loss: 2.1449\n",
            "Epoch [    4/   10] | d_loss: 0.5913 | g_loss: 2.5475\n",
            "Epoch [    4/   10] | d_loss: 0.3917 | g_loss: 3.2912\n",
            "Epoch [    4/   10] | d_loss: 0.3845 | g_loss: 2.3973\n",
            "Epoch [    5/   10] | d_loss: 0.6243 | g_loss: 1.9661\n",
            "Epoch [    5/   10] | d_loss: 0.4773 | g_loss: 2.0407\n",
            "Epoch [    5/   10] | d_loss: 0.6343 | g_loss: 2.2873\n",
            "Epoch [    5/   10] | d_loss: 0.4403 | g_loss: 2.4606\n",
            "Epoch [    5/   10] | d_loss: 0.4719 | g_loss: 1.9136\n",
            "Epoch [    5/   10] | d_loss: 0.6247 | g_loss: 1.7947\n",
            "Epoch [    5/   10] | d_loss: 0.3349 | g_loss: 2.7863\n",
            "Epoch [    5/   10] | d_loss: 0.3603 | g_loss: 2.7655\n",
            "Epoch [    5/   10] | d_loss: 0.4195 | g_loss: 1.9091\n",
            "Epoch [    5/   10] | d_loss: 0.6159 | g_loss: 1.8159\n",
            "Epoch [    5/   10] | d_loss: 0.8086 | g_loss: 1.7563\n",
            "Epoch [    5/   10] | d_loss: 0.5847 | g_loss: 2.4104\n",
            "Epoch [    5/   10] | d_loss: 0.7794 | g_loss: 2.0251\n",
            "Epoch [    5/   10] | d_loss: 0.5617 | g_loss: 2.0148\n",
            "Epoch [    5/   10] | d_loss: 0.7048 | g_loss: 2.3872\n",
            "Epoch [    6/   10] | d_loss: 0.6682 | g_loss: 1.6524\n",
            "Epoch [    6/   10] | d_loss: 0.7583 | g_loss: 1.6562\n",
            "Epoch [    6/   10] | d_loss: 0.7314 | g_loss: 1.6190\n",
            "Epoch [    6/   10] | d_loss: 0.9397 | g_loss: 1.6865\n",
            "Epoch [    6/   10] | d_loss: 0.6400 | g_loss: 2.0066\n",
            "Epoch [    6/   10] | d_loss: 0.7184 | g_loss: 1.9912\n",
            "Epoch [    6/   10] | d_loss: 0.6559 | g_loss: 2.1547\n",
            "Epoch [    6/   10] | d_loss: 0.6655 | g_loss: 1.7806\n",
            "Epoch [    6/   10] | d_loss: 0.8495 | g_loss: 2.0521\n",
            "Epoch [    6/   10] | d_loss: 0.7890 | g_loss: 1.6247\n",
            "Epoch [    6/   10] | d_loss: 1.2915 | g_loss: 1.2677\n",
            "Epoch [    6/   10] | d_loss: 1.1059 | g_loss: 1.4548\n",
            "Epoch [    6/   10] | d_loss: 0.6075 | g_loss: 1.9966\n",
            "Epoch [    6/   10] | d_loss: 0.7697 | g_loss: 1.6662\n",
            "Epoch [    6/   10] | d_loss: 0.9382 | g_loss: 1.4075\n",
            "Epoch [    7/   10] | d_loss: 1.0741 | g_loss: 1.5730\n",
            "Epoch [    7/   10] | d_loss: 1.0014 | g_loss: 1.4046\n",
            "Epoch [    7/   10] | d_loss: 0.8592 | g_loss: 1.7465\n",
            "Epoch [    7/   10] | d_loss: 1.0897 | g_loss: 1.1831\n",
            "Epoch [    7/   10] | d_loss: 0.6506 | g_loss: 2.0452\n",
            "Epoch [    7/   10] | d_loss: 0.8911 | g_loss: 1.5662\n",
            "Epoch [    7/   10] | d_loss: 0.6590 | g_loss: 1.8003\n",
            "Epoch [    7/   10] | d_loss: 0.6852 | g_loss: 1.5889\n",
            "Epoch [    7/   10] | d_loss: 0.8307 | g_loss: 1.7473\n",
            "Epoch [    7/   10] | d_loss: 0.8830 | g_loss: 1.4254\n",
            "Epoch [    7/   10] | d_loss: 0.6296 | g_loss: 2.3238\n",
            "Epoch [    7/   10] | d_loss: 0.6562 | g_loss: 1.5798\n",
            "Epoch [    7/   10] | d_loss: 0.8998 | g_loss: 1.6618\n",
            "Epoch [    7/   10] | d_loss: 1.0788 | g_loss: 1.1228\n",
            "Epoch [    7/   10] | d_loss: 0.8643 | g_loss: 1.3264\n",
            "Epoch [    8/   10] | d_loss: 1.1841 | g_loss: 1.2010\n",
            "Epoch [    8/   10] | d_loss: 0.8603 | g_loss: 1.4856\n",
            "Epoch [    8/   10] | d_loss: 0.7774 | g_loss: 1.7624\n",
            "Epoch [    8/   10] | d_loss: 0.8008 | g_loss: 1.5802\n",
            "Epoch [    8/   10] | d_loss: 0.8617 | g_loss: 1.5930\n",
            "Epoch [    8/   10] | d_loss: 0.7984 | g_loss: 1.7499\n",
            "Epoch [    8/   10] | d_loss: 0.8590 | g_loss: 1.2749\n",
            "Epoch [    8/   10] | d_loss: 1.1773 | g_loss: 1.3931\n",
            "Epoch [    8/   10] | d_loss: 1.0256 | g_loss: 1.2285\n",
            "Epoch [    8/   10] | d_loss: 1.2523 | g_loss: 0.8148\n",
            "Epoch [    8/   10] | d_loss: 1.1225 | g_loss: 0.9318\n",
            "Epoch [    8/   10] | d_loss: 0.8085 | g_loss: 1.4878\n",
            "Epoch [    8/   10] | d_loss: 1.0549 | g_loss: 1.2933\n",
            "Epoch [    8/   10] | d_loss: 1.1262 | g_loss: 1.1994\n",
            "Epoch [    8/   10] | d_loss: 0.9390 | g_loss: 1.3188\n",
            "Epoch [    9/   10] | d_loss: 1.0248 | g_loss: 1.2986\n",
            "Epoch [    9/   10] | d_loss: 0.9161 | g_loss: 1.2438\n",
            "Epoch [    9/   10] | d_loss: 0.8489 | g_loss: 1.4086\n",
            "Epoch [    9/   10] | d_loss: 0.8035 | g_loss: 1.5596\n",
            "Epoch [    9/   10] | d_loss: 1.0602 | g_loss: 1.2204\n",
            "Epoch [    9/   10] | d_loss: 1.1421 | g_loss: 1.5446\n",
            "Epoch [    9/   10] | d_loss: 1.0592 | g_loss: 1.2773\n",
            "Epoch [    9/   10] | d_loss: 1.0539 | g_loss: 1.1803\n",
            "Epoch [    9/   10] | d_loss: 1.4073 | g_loss: 1.0086\n",
            "Epoch [    9/   10] | d_loss: 0.8440 | g_loss: 1.2050\n",
            "Epoch [    9/   10] | d_loss: 1.0666 | g_loss: 1.2469\n",
            "Epoch [    9/   10] | d_loss: 0.8747 | g_loss: 1.3508\n",
            "Epoch [    9/   10] | d_loss: 1.3003 | g_loss: 1.1861\n",
            "Epoch [    9/   10] | d_loss: 1.2198 | g_loss: 1.2348\n",
            "Epoch [    9/   10] | d_loss: 1.3771 | g_loss: 1.0311\n",
            "Epoch [   10/   10] | d_loss: 0.9812 | g_loss: 1.2022\n",
            "Epoch [   10/   10] | d_loss: 0.8537 | g_loss: 1.2171\n",
            "Epoch [   10/   10] | d_loss: 1.3738 | g_loss: 0.7699\n",
            "Epoch [   10/   10] | d_loss: 0.5758 | g_loss: 2.0389\n",
            "Epoch [   10/   10] | d_loss: 0.7658 | g_loss: 1.5877\n",
            "Epoch [   10/   10] | d_loss: 1.5995 | g_loss: 1.1008\n",
            "Epoch [   10/   10] | d_loss: 0.8128 | g_loss: 1.6154\n",
            "Epoch [   10/   10] | d_loss: 0.5556 | g_loss: 1.8595\n",
            "Epoch [   10/   10] | d_loss: 1.0505 | g_loss: 1.1723\n",
            "Epoch [   10/   10] | d_loss: 0.9585 | g_loss: 1.2974\n",
            "Epoch [   10/   10] | d_loss: 0.7233 | g_loss: 1.4646\n",
            "Epoch [   10/   10] | d_loss: 1.1345 | g_loss: 1.4528\n",
            "Epoch [   10/   10] | d_loss: 1.0369 | g_loss: 1.1501\n",
            "Epoch [   10/   10] | d_loss: 1.0144 | g_loss: 1.1820\n",
            "Epoch [   10/   10] | d_loss: 0.7813 | g_loss: 1.4702\n"
          ],
          "name": "stdout"
        }
      ]
    },
    {
      "cell_type": "markdown",
      "metadata": {
        "collapsed": true,
        "id": "m1VKmquO1DXP",
        "colab_type": "text"
      },
      "source": [
        "## Training loss\n",
        "\n",
        "Plot the training losses for the generator and discriminator, recorded after each epoch."
      ]
    },
    {
      "cell_type": "code",
      "metadata": {
        "id": "94Os5ljJ1DXS",
        "colab_type": "code",
        "outputId": "6a7cb605-c24d-42c3-c50a-9be995e6190d",
        "colab": {}
      },
      "source": [
        "fig, ax = plt.subplots()\n",
        "losses = np.array(losses)\n",
        "plt.plot(losses.T[0], label='Discriminator', alpha=0.5)\n",
        "plt.plot(losses.T[1], label='Generator', alpha=0.5)\n",
        "plt.title(\"Training Losses\")\n",
        "plt.legend()"
      ],
      "execution_count": 0,
      "outputs": [
        {
          "output_type": "execute_result",
          "data": {
            "text/plain": [
              "<matplotlib.legend.Legend at 0x7fb7fbc68ef0>"
            ]
          },
          "metadata": {
            "tags": []
          },
          "execution_count": 20
        },
        {
          "output_type": "display_data",
          "data": {
            "image/png": "[encoded data removed]",
            "text/plain": [
              "<matplotlib.figure.Figure at 0x7fb7f9b42f98>"
            ]
          },
          "metadata": {
            "tags": [],
            "needs_background": "light"
          }
        }
      ]
    },
    {
      "cell_type": "markdown",
      "metadata": {
        "collapsed": true,
        "id": "aWSFIkJT1DXe",
        "colab_type": "text"
      },
      "source": [
        "## Generator samples from training\n",
        "\n",
        "View samples of images from the generator, and answer a question about the strengths and weaknesses of your trained models."
      ]
    },
    {
      "cell_type": "code",
      "metadata": {
        "id": "NTtj1kYc1DXi",
        "colab_type": "code",
        "colab": {}
      },
      "source": [
        "# helper function for viewing a list of passed in sample images\n",
        "def view_samples(epoch, samples):\n",
        "    fig, axes = plt.subplots(figsize=(16,4), nrows=2, ncols=8, sharey=True, sharex=True)\n",
        "    for ax, img in zip(axes.flatten(), samples[epoch]):\n",
        "        img = img.detach().cpu().numpy()\n",
        "        img = np.transpose(img, (1, 2, 0))\n",
        "        img = ((img + 1)*255 / (2)).astype(np.uint8)\n",
        "        ax.xaxis.set_visible(False)\n",
        "        ax.yaxis.set_visible(False)\n",
        "        im = ax.imshow(img.reshape((32,32,3)))"
      ],
      "execution_count": 0,
      "outputs": []
    },
    {
      "cell_type": "code",
      "metadata": {
        "id": "fhYUrd4B1DXs",
        "colab_type": "code",
        "colab": {}
      },
      "source": [
        "# Load samples from generator, taken while training\n",
        "with open('train_samples.pkl', 'rb') as f:\n",
        "    samples = pkl.load(f)"
      ],
      "execution_count": 0,
      "outputs": []
    },
    {
      "cell_type": "code",
      "metadata": {
        "id": "vNSJuQMV1DX2",
        "colab_type": "code",
        "outputId": "c444862a-79e3-43d5-9a68-38b72c02f6e9",
        "colab": {}
      },
      "source": [
        "_ = view_samples(-1, samples)"
      ],
      "execution_count": 0,
      "outputs": [
        {
          "output_type": "display_data",
          "data": {
            "image/png": "[encoded data removed]",
            "text/plain": [
              "<matplotlib.figure.Figure at 0x7fb7f818b5c0>"
            ]
          },
          "metadata": {
            "tags": [],
            "needs_background": "light"
          }
        }
      ]
    },
    {
      "cell_type": "markdown",
      "metadata": {
        "id": "tl0vt4b11DYB",
        "colab_type": "text"
      },
      "source": [
        "### Question: What do you notice about your generated samples and how might you improve this model?\n",
        "When you answer this question, consider the following factors:\n",
        "* The dataset is biased; it is made of \"celebrity\" faces that are mostly white\n",
        "* Model size; larger models have the opportunity to learn more features in a data feature space\n",
        "* Optimization strategy; optimizers and number of epochs affect your final result\n"
      ]
    },
    {
      "cell_type": "markdown",
      "metadata": {
        "id": "spHIut6O1DYE",
        "colab_type": "text"
      },
      "source": [
        "Answer:\n",
        "    The dataset is made up of mainly people of the same color and there faces are not symmetrical,others are facing sideways.\n",
        "    The model size chosen was large enough to allow enough learning of the face features\n",
        "    For optimization I used default parameters and it worked well with my model.I choose 10 number of epochs to reduce training time.To improve on ththiis ,I will reduce the epoch to about 7 sisincectgere is minimal loss reduction after 7."
      ]
    },
    {
      "cell_type": "markdown",
      "metadata": {
        "id": "bvGA_By01DYH",
        "colab_type": "text"
      },
      "source": [
        "### Submitting This Project\n",
        "When submitting this project, make sure to run all the cells before saving the notebook. Save the notebook file as \"dlnd_face_generation.ipynb\" and save it as a HTML file under \"File\" -> \"Download as\". Include the \"problem_unittests.py\" files in your submission."
      ]
    }
  ]
}